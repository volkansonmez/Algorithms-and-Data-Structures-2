{
 "cells": [
  {
   "cell_type": "code",
   "execution_count": null,
   "metadata": {},
   "outputs": [],
   "source": [
    "# write a dft matrix w for N x N where N is the length of the signal to be multiplied later with w\n",
    "N = 4\n",
    "n = np.arange(N)\n",
    "k = n[:, np.newaxis]\n",
    "L = k*n/N\n",
    "print(L) \n",
    "w = np.exp(2*np.pi*2j*k*n/N)\n",
    "print(np.around(w, decimals = 2))\n"
   ]
  },
  {
   "cell_type": "code",
   "execution_count": null,
   "metadata": {},
   "outputs": [],
   "source": [
    "# DFT of a polynomial is the dot product of w and signal's coefficients representation in an array\n",
    "import numpy as np\n",
    "def dft(signal):\n",
    "    if len(signal) <= 1:return signal\n",
    "    N = len(signal)\n",
    "    n = np.arange(N)\n",
    "    k = n[:, np.newaxis]\n",
    "    w = np.exp(2*np.pi*1j*k*n/N)\n",
    "    #print(k*n/N)\n",
    "    dft_of_signal = np.dot(w,signal)\n",
    "    #print(np.around(w, decimals =2))\n",
    "    dft_of_signal = np.around(dft_of_signal, decimals = 2)\n",
    "    return dft_of_signal\n",
    "\n",
    "dft([1,1,2,0]) \n",
    "    \n",
    "    "
   ]
  },
  {
   "cell_type": "code",
   "execution_count": null,
   "metadata": {},
   "outputs": [],
   "source": [
    "# FFT of a polynomial\n",
    "def fft(signal):\n",
    "    n = len(signal)\n",
    "    if n == 1:\n",
    "        return signal\n",
    "    else:\n",
    "        # The inputs are arranged in a peculiar order. \n",
    "        # Ex for a signal of 8 coef: 0, 4, 2, 6, 1, 5, 3, 7.\n",
    "        even = fft(signal[0::2])\n",
    "        odd =  fft(signal[1::2])\n",
    "        combined = [0]*n\n",
    "        for m in range(n//2): \n",
    "            w = np.exp((-2.0 * np.pi * 1j * m) / n)\n",
    "            combined[m] = even[m] + w * odd[m] \n",
    "            combined[m + n//2] = even[m] - w * odd[m]\n",
    "    return np.around(combined, decimals = 2)\n",
    "\n",
    "fft([1,1,2,0]) # 1 + x + x**2 "
   ]
  },
  {
   "cell_type": "code",
   "execution_count": null,
   "metadata": {},
   "outputs": [],
   "source": [
    "# Taking derivative of a polynomial that is represented in an array with its coefficients IN REVERSE ORDER\n",
    "test_list = [5,3,1,9] # find (5*x**3 + 3*x**2 + x + 9) dx \n",
    "\n",
    "def derivative(poly):  # poly will take the coefficients and degree is going to take the highest degree\n",
    "    results = []\n",
    "    for i in range(len(poly)): \n",
    "        each_item = (poly[i] * (len(poly) - i -1))\n",
    "        results.append(each_item)\n",
    "    return results\n",
    "derivative(test_list)\n"
   ]
  },
  {
   "cell_type": "code",
   "execution_count": null,
   "metadata": {},
   "outputs": [],
   "source": [
    "# multiplying two polynomials \n",
    "# test: (2x**2 + 2) * (x + 3) represent the polynomials in arrays from 0 degree to higher as: [2,0,2,0] and [3,1,0,0]\n",
    "\n",
    "import numpy as np\n",
    "a = np.array([2,0,2,0])\n",
    "a_fft = np.fft.fft(a) # take fft\n",
    "# print(a_fft)\n",
    "b = np.array([3,1,0,0])\n",
    "b_fft = np.fft.fft(b) # take fft\n",
    "# print(b_fft)\n",
    "# print('elementwise multiply two ffts:')\n",
    "c = a_fft * b_fft  # multiply fft\n",
    "# print(c) # element wise multiplication\n",
    "inv_c = np.fft.ifft(c) # take inverse fft\n",
    "# print(inv_c)\n",
    "abs_inv_c = np.abs(inv_c) # get rid of all complex numbers since there should not be any after inversion\n",
    "print(abs_inv_c)\n",
    "print(\"the multiplication of these two polynomials yield: {}\".format(abs_inv_c))\n",
    "# print('6 + 2x + 6x**2 + 2x**3')"
   ]
  },
  {
   "cell_type": "markdown",
   "metadata": {},
   "source": [
    "#### Convolution\n",
    "\n",
    "z(t) = x(t) ∗ y(t) = ∫ x(T)y(t−T)dT.\n",
    "\n",
    "Consider a continuous-time signal, which we discretize in time domain with sampling frequency Fs=100Hz. Convolve this exponential impulse x(t) with a sinc-squared function y(t). \n",
    "\n",
    "The FFT of the convolution of two functions is equal to the product of the FFT of the two individual functions!"
   ]
  },
  {
   "cell_type": "code",
   "execution_count": null,
   "metadata": {},
   "outputs": [],
   "source": [
    "# Computing convolution via the frequency domain\n",
    "# Calculate the spectrum X(f)=F{x(t)} and Y(f)=F{y(t)}. Calculate the elementwise product Z(f)=X(f)⋅Y(f)\n",
    "# Perform inverse Fourier transform to get back to the time domain z(t)=F−1{Z(f)}\n",
    "\n",
    "# Ex: We take two sequences of length N=128, one being the exponential impulse and the other one being a sine wave \n",
    "# calculate the convolution once in time domain and once in the frequency domain:\n",
    "\n",
    "import matplotlib.pyplot as plt\n",
    "%matplotlib inline\n",
    "\n",
    "N = 128\n",
    "n = np.arange(N)\n",
    "\n",
    "x_samples = np.exp(-0.1*n)\n",
    "y_samples = np.sin(2*np.pi*n/32) # output 4 full waves for an easy view\n",
    "z_samples = np.convolve(x_samples, y_samples)\n",
    "\n",
    "# Application of the convolution theorem: Taking the fft of both signals, multiplying them, then taking the ifft.\n",
    "z2_samples = np.fft.ifft(np.fft.fft(x_samples) * np.fft.fft(y_samples)).real\n",
    "\n",
    "plt.subplot(2,1,1)\n",
    "plt.plot(x_samples, 'c')\n",
    "plt.plot(y_samples, 'y')\n",
    "plt.plot(z_samples, 'b')\n",
    "\n",
    "plt.subplot(2,1,2)\n",
    "plt.plot(x_samples)\n",
    "plt.plot(y_samples)\n",
    "plt.plot(z2_samples)\n"
   ]
  },
  {
   "cell_type": "code",
   "execution_count": null,
   "metadata": {},
   "outputs": [],
   "source": [
    "import numpy as np\n",
    "import matplotlib.pyplot as plt\n",
    "%matplotlib inline\n",
    "\n",
    "frequency = 5 # show 5 full waves\n",
    "t = np.arange(0,1,1/180) # take 180 data for a smooth sampling\n",
    "signal = np.sin(2* np.pi* frequency*t) # create a sin sample wave\n",
    "plt.plot(signal) # plot the sin wave\n",
    "\n",
    "Y = np.fft.fft(signal) / len(signal) # take the fft\n",
    "Y = np.abs(Y[:(len(signal)//2)]) # take the half and the abs value\n",
    "plt.plot(np.arange((len(t)//2)), Y, '-') # view the peak at 5"
   ]
  },
  {
   "cell_type": "code",
   "execution_count": null,
   "metadata": {},
   "outputs": [],
   "source": [
    "import numpy as np\n",
    "import matplotlib.pyplot as plt\n",
    "%matplotlib inline\n",
    "\n",
    "Fs = 100    # the sampling frequency\n",
    "T = 10      # the time duration for observation\n",
    "t = np.arange(-T, T, 1/Fs)  # the corresponding samples\n",
    "\n",
    "# define our two functions\n",
    "x = lambda t: np.exp(-abs(t)) * (t>=0)\n",
    "y = lambda t: np.sinc(t)**2\n",
    "\n",
    "# the resulting time range, when convolving both signals\n",
    "t_conv = np.arange(-2*T, 2*T, 1/Fs)[:-1]\n",
    "\n",
    "plt.subplot(2,1,1) \n",
    "plt.plot(t, x(t))\n",
    "plt.plot(t, y(t))\n",
    "z = np.convolve(x(t), y(t))/Fs\n",
    "plt.plot(t_conv, z)\n",
    "\n",
    "# function to calculate the spectrum of the input signal\n",
    "spec = lambda x: abs(np.fft.fftshift(np.fft.fft(x, 4*len(t))))/Fs\n",
    "X = spec(x(t))\n",
    "Y = spec(y(t))\n",
    "Z = spec(z)\n",
    "f = np.linspace(-Fs/2, Fs/2, len(X))\n",
    "\n",
    "plt.subplot(2,1,2)\n",
    "plt.plot(f, X)\n",
    "plt.plot(f, Y)\n",
    "plt.plot(f, Z)"
   ]
  },
  {
   "cell_type": "code",
   "execution_count": null,
   "metadata": {},
   "outputs": [],
   "source": []
  }
 ],
 "metadata": {
  "kernelspec": {
   "display_name": "Python 3",
   "language": "python",
   "name": "python3"
  },
  "language_info": {
   "codemirror_mode": {
    "name": "ipython",
    "version": 3
   },
   "file_extension": ".py",
   "mimetype": "text/x-python",
   "name": "python",
   "nbconvert_exporter": "python",
   "pygments_lexer": "ipython3",
   "version": "3.7.4"
  }
 },
 "nbformat": 4,
 "nbformat_minor": 2
}
