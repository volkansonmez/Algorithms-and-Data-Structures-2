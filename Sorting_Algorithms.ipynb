{
 "cells": [
  {
   "cell_type": "code",
   "execution_count": 10,
   "metadata": {},
   "outputs": [
    {
     "name": "stdout",
     "output_type": "stream",
     "text": [
      "[0.0, 0.02, 0.02, 0.02, 0.04, 0.06, 0.06, 0.07, 0.09, 0.09, 0.1, 0.1, 0.1, 0.11, 0.12, 0.12, 0.12, 0.13, 0.13, 0.14, 0.14, 0.16, 0.16, 0.18, 0.2, 0.21, 0.21, 0.24, 0.25, 0.26, 0.27, 0.28, 0.29, 0.3, 0.32, 0.32, 0.32, 0.36, 0.36, 0.37, 0.38, 0.41, 0.41, 0.42, 0.44, 0.44, 0.44, 0.46, 0.46, 0.47, 0.47, 0.52, 0.52, 0.53, 0.54, 0.55, 0.57, 0.57, 0.57, 0.57, 0.58, 0.59, 0.6, 0.6, 0.61, 0.62, 0.62, 0.64, 0.65, 0.65, 0.66, 0.67, 0.67, 0.67, 0.68, 0.69, 0.7, 0.72, 0.72, 0.74, 0.77, 0.78, 0.78, 0.79, 0.8, 0.82, 0.83, 0.83, 0.84, 0.87, 0.89, 0.93, 0.93, 0.94, 0.94, 0.96, 0.98, 0.98, 0.98, 0.99]\n",
      "499 µs ± 26.2 µs per loop (mean ± std. dev. of 7 runs, 1000 loops each)\n"
     ]
    }
   ],
   "source": [
    "import numpy as np\n",
    "np.random.seed(0)\n",
    "# Merge Sort - N*logN\n",
    "\n",
    "# split an array\n",
    "def split(n): # n is an unsorted array to be splitted into two parts with split function\n",
    "    if len(n) <= 1: return n\n",
    "    mid = len(n)//2\n",
    "    left = n[:mid]\n",
    "    right = n[mid:]\n",
    "    return left, right\n",
    "\n",
    "# combine two sorted arrays\n",
    "def merge_two_sorted_arrays(a,b): # a and b are sorted arrays as inputs\n",
    "    if len(a) == 0: return b\n",
    "    if len(b) == 0: return a\n",
    "    combined = []\n",
    "    i = 0\n",
    "    j = 0\n",
    "    while i < len(a) and j < len(b):\n",
    "        if a[i] < b[j]: # pick the item from a\n",
    "            combined.append(a[i])\n",
    "            i += 1 \n",
    "        elif a[i] > b[j]: # pick the item from b\n",
    "            combined.append(b[j])\n",
    "            j += 1 \n",
    "        else: # if both items are the same\n",
    "            combined.append(a[i])\n",
    "            combined.append(b[j])\n",
    "            i += 1\n",
    "            j += 1\n",
    "        if i == len(a):\n",
    "            for each_item_left in range(j, len(b)):\n",
    "                combined.append(b[each_item_left])\n",
    "        if j == len(b):\n",
    "            for each_item_left in range(i, len(a)):\n",
    "                combined.append(a[each_item_left])\n",
    "    return combined\n",
    "\n",
    "\n",
    "# split the array into two parths and combine the arrays recursively\n",
    "def merge_sort(n):\n",
    "    # solve it recursively\n",
    "    if len(n) <= 1: return n\n",
    "    left , right = split(n)\n",
    "    left_side = merge_sort(left)\n",
    "    right_side = merge_sort(right)\n",
    "    merge_sorted = merge_two_sorted_arrays(left_side, right_side)\n",
    "    return merge_sorted\n",
    "\n",
    "\n",
    "# test the merge sort\n",
    "test_set = np.around(np.random.random(100), decimals = 2)\n",
    "print(merge_sort(test_set))\n",
    "%timeit merge_sort(test_set)\n",
    "    "
   ]
  },
  {
   "cell_type": "code",
   "execution_count": 12,
   "metadata": {},
   "outputs": [
    {
     "name": "stdout",
     "output_type": "stream",
     "text": [
      "[0.0, 0.02, 0.02, 0.02, 0.04, 0.06, 0.06, 0.07, 0.09, 0.09, 0.1, 0.1, 0.1, 0.11, 0.12, 0.12, 0.12, 0.13, 0.13, 0.14, 0.14, 0.16, 0.16, 0.18, 0.2, 0.21, 0.21, 0.24, 0.25, 0.26, 0.27, 0.28, 0.29, 0.3, 0.32, 0.32, 0.32, 0.36, 0.36, 0.37, 0.38, 0.41, 0.41, 0.42, 0.44, 0.44, 0.44, 0.46, 0.46, 0.47, 0.47, 0.52, 0.52, 0.53, 0.54, 0.55, 0.57, 0.57, 0.57, 0.57, 0.58, 0.59, 0.6, 0.6, 0.61, 0.62, 0.62, 0.64, 0.65, 0.65, 0.66, 0.67, 0.67, 0.67, 0.68, 0.69, 0.7, 0.72, 0.72, 0.74, 0.77, 0.78, 0.78, 0.79, 0.8, 0.82, 0.83, 0.83, 0.84, 0.87, 0.89, 0.93, 0.93, 0.94, 0.94, 0.96, 0.98, 0.98, 0.98, 0.99]\n",
      "183 µs ± 5.81 µs per loop (mean ± std. dev. of 7 runs, 10000 loops each)\n"
     ]
    }
   ],
   "source": [
    "# quick sort - N*logN\n",
    "def quick_sort(n):\n",
    "    if len(n) <= 1: return n\n",
    "    mid = len(n)// 2\n",
    "    pivot_item = n[mid]\n",
    "    left_side = [i for i in n if i < pivot_item]\n",
    "    mid = [i for i in n if i == pivot_item]\n",
    "    right_side = [i for i in n if i > pivot_item]\n",
    "    combined = quick_sort(left_side) + mid + quick_sort(right_side)\n",
    "    return combined\n",
    "    \n",
    "    \n",
    "# test the quick sort\n",
    "print(quick_sort(test_set))\n",
    "%timeit quick_sort(test_set)\n",
    "    "
   ]
  },
  {
   "cell_type": "code",
   "execution_count": 16,
   "metadata": {},
   "outputs": [
    {
     "name": "stdout",
     "output_type": "stream",
     "text": [
      "[0.   0.02 0.02 0.02 0.04 0.06 0.06 0.07 0.09 0.09 0.1  0.1  0.1  0.11\n",
      " 0.12 0.12 0.12 0.13 0.13 0.14 0.14 0.16 0.16 0.18 0.2  0.21 0.21 0.24\n",
      " 0.25 0.26 0.27 0.28 0.29 0.3  0.32 0.32 0.32 0.36 0.36 0.37 0.38 0.41\n",
      " 0.41 0.42 0.44 0.44 0.44 0.46 0.46 0.47 0.47 0.52 0.52 0.53 0.54 0.55\n",
      " 0.57 0.57 0.57 0.57 0.58 0.59 0.6  0.6  0.61 0.62 0.62 0.64 0.65 0.65\n",
      " 0.66 0.67 0.67 0.67 0.68 0.69 0.7  0.72 0.72 0.74 0.77 0.78 0.78 0.79\n",
      " 0.8  0.82 0.83 0.83 0.84 0.87 0.89 0.93 0.93 0.94 0.94 0.96 0.98 0.98\n",
      " 0.98 0.99]\n",
      "1.53 ms ± 37.8 µs per loop (mean ± std. dev. of 7 runs, 1000 loops each)\n"
     ]
    }
   ],
   "source": [
    "# bubble sort - N**2\n",
    "def bubble_sort(a): # input an array                          \n",
    "    for x in range(len(a)): # loop over each item\n",
    "        for y in range(len(a)-1-x): # loop over in reverse order, remember range function is: [)\n",
    "            if a[y]>a[y+1]:\n",
    "                a[y],a[y+1]=a[y+1],a[y]\n",
    "    return a\n",
    "\n",
    "print(bubble_sort(test_set))\n",
    "%timeit bubble_sort(test_set)"
   ]
  },
  {
   "cell_type": "code",
   "execution_count": null,
   "metadata": {},
   "outputs": [],
   "source": []
  }
 ],
 "metadata": {
  "kernelspec": {
   "display_name": "Python 3",
   "language": "python",
   "name": "python3"
  },
  "language_info": {
   "codemirror_mode": {
    "name": "ipython",
    "version": 3
   },
   "file_extension": ".py",
   "mimetype": "text/x-python",
   "name": "python",
   "nbconvert_exporter": "python",
   "pygments_lexer": "ipython3",
   "version": "3.7.4"
  }
 },
 "nbformat": 4,
 "nbformat_minor": 2
}
